{
 "cells": [
  {
   "cell_type": "code",
   "execution_count": 1,
   "id": "87948853",
   "metadata": {},
   "outputs": [
    {
     "name": "stdout",
     "output_type": "stream",
     "text": [
      "\n"
     ]
    }
   ],
   "source": [
    "\"\"\"\n",
    "\n",
    "Dalam project ini saya menganalisa sales dari Data Ecommerce\n",
    "\n",
    "Objektif permasalahan dari fokus analisa ini antara lain:\n",
    "1. Kapan saja akan terjadi lonjakan pembelian dan pada produk apa berdasarkan tahunnya?\n",
    "2. Customer di kota mana yang melakukan transaksi tertinggi?\n",
    "3. Menggunakan jenis pembayaran apa customer membayar dan jenis pembayaran mana yang digunakan?\n",
    "\n",
    "\"\"\"\n",
    "print()"
   ]
  },
  {
   "cell_type": "code",
   "execution_count": 4,
   "id": "a4453682",
   "metadata": {},
   "outputs": [],
   "source": [
    "# Import Library\n",
    "\n",
    "import pandas as pd\n",
    "import numpy as np\n",
    "import matplotlib.pyplot as plt\n",
    "import seaborn as sns\n",
    "import sqlite3"
   ]
  },
  {
   "cell_type": "markdown",
   "id": "2d86e6dc",
   "metadata": {},
   "source": [
    "LANGKAH 2 - MENGAKSES DATASET"
   ]
  },
  {
   "cell_type": "markdown",
   "id": "f37e8c67",
   "metadata": {},
   "source": [
    "1. Kapan saja akan terjadi lonjakan pembelian berdasarkan tahunnya?"
   ]
  },
  {
   "cell_type": "code",
   "execution_count": 5,
   "id": "fdb7c165",
   "metadata": {},
   "outputs": [],
   "source": [
    "# Membuat koneksi database\n",
    "\n",
    "conn = sqlite3.connect('olist.db')"
   ]
  },
  {
   "cell_type": "code",
   "execution_count": 6,
   "id": "4bf21246",
   "metadata": {},
   "outputs": [],
   "source": [
    "# Menyimpan dataset\n",
    "\n",
    "order_by_time = pd.read_sql(\"SELECT * FROM olist_order_items_dataset join olist_order_dataset using(order_id)\", conn)\n",
    "cust_by_city = pd.read_sql(\"SELECT * FROM olist_order_dataset join olist_order_customer_dataset using(customer_id)\", conn)\n",
    "payment_type = pd.read_sql(\"SELECT * FROM olist_order_items_dataset join olist_order_payments_dataset using(order_id)\", conn)"
   ]
  },
  {
   "cell_type": "markdown",
   "id": "e189dc9a",
   "metadata": {},
   "source": [
    "LANGKAH 3 - EKSPLORASI DAN PEMROSESAN DATA"
   ]
  },
  {
   "cell_type": "markdown",
   "id": "394bce43",
   "metadata": {},
   "source": [
    "Identifikasi NaN"
   ]
  },
  {
   "cell_type": "code",
   "execution_count": 48,
   "id": "c9ffce0a",
   "metadata": {},
   "outputs": [
    {
     "name": "stdout",
     "output_type": "stream",
     "text": [
      "index                               0\n",
      "order_id                            0\n",
      "order_item_id                       0\n",
      "product_id                          0\n",
      "seller_id                           0\n",
      "shipping_limit_date                 0\n",
      "price                               0\n",
      "freight_value                       0\n",
      "index                               0\n",
      "customer_id                         0\n",
      "order_status                        0\n",
      "order_purchase_timestamp            0\n",
      "order_approved_at                  15\n",
      "order_delivered_carrier_date     1194\n",
      "order_delivered_customer_date    2454\n",
      "order_estimated_delivery_date       0\n",
      "dtype: int64\n",
      "index                               0\n",
      "order_id                            0\n",
      "customer_id                         0\n",
      "order_status                        0\n",
      "order_purchase_timestamp            0\n",
      "order_approved_at                 160\n",
      "order_delivered_carrier_date     1783\n",
      "order_delivered_customer_date    2965\n",
      "order_estimated_delivery_date       0\n",
      "index                               0\n",
      "customer_unique_id                  0\n",
      "customer_zip_code_prefix            0\n",
      "customer_city                       0\n",
      "customer_state                      0\n",
      "dtype: int64\n",
      "index                   0\n",
      "order_id                0\n",
      "order_item_id           0\n",
      "product_id              0\n",
      "seller_id               0\n",
      "shipping_limit_date     0\n",
      "price                   0\n",
      "freight_value           0\n",
      "index                   0\n",
      "payment_sequential      0\n",
      "payment_type            0\n",
      "payment_installments    0\n",
      "payment_value           0\n",
      "dtype: int64\n"
     ]
    }
   ],
   "source": [
    "\"\"\"\n",
    "\n",
    "Meemasukan seluruh dataset kedalam sebuah list lalu\n",
    "Mengidentifikasi Missing value dan atau nilai null dari tiap dataset tersebut\n",
    "\n",
    "\"\"\"\n",
    "\n",
    "lis = [order_by_time, cust_by_city, payment_type]\n",
    "\n",
    "for i in lis:\n",
    "    print(i.isnull().sum())"
   ]
  },
  {
   "cell_type": "code",
   "execution_count": 36,
   "id": "159d0c89",
   "metadata": {},
   "outputs": [
    {
     "name": "stdout",
     "output_type": "stream",
     "text": [
      "order_delivered_customer_date    2.178429\n",
      "order_delivered_carrier_date     1.059920\n",
      "order_approved_at                0.013316\n",
      "index                            0.000000\n",
      "order_id                         0.000000\n",
      "order_item_id                    0.000000\n",
      "product_id                       0.000000\n",
      "seller_id                        0.000000\n",
      "shipping_limit_date              0.000000\n",
      "price                            0.000000\n",
      "freight_value                    0.000000\n",
      "index                            0.000000\n",
      "customer_id                      0.000000\n",
      "order_status                     0.000000\n",
      "order_purchase_timestamp         0.000000\n",
      "order_estimated_delivery_date    0.000000\n",
      "dtype: float64\n",
      "order_delivered_customer_date    2.981668\n",
      "order_delivered_carrier_date     1.793023\n",
      "order_approved_at                0.160899\n",
      "index                            0.000000\n",
      "order_id                         0.000000\n",
      "customer_id                      0.000000\n",
      "order_status                     0.000000\n",
      "order_purchase_timestamp         0.000000\n",
      "order_estimated_delivery_date    0.000000\n",
      "index                            0.000000\n",
      "customer_unique_id               0.000000\n",
      "customer_zip_code_prefix         0.000000\n",
      "customer_city                    0.000000\n",
      "customer_state                   0.000000\n",
      "dtype: float64\n",
      "index                   0.0\n",
      "order_id                0.0\n",
      "order_item_id           0.0\n",
      "product_id              0.0\n",
      "seller_id               0.0\n",
      "shipping_limit_date     0.0\n",
      "price                   0.0\n",
      "freight_value           0.0\n",
      "index                   0.0\n",
      "payment_sequential      0.0\n",
      "payment_type            0.0\n",
      "payment_installments    0.0\n",
      "payment_value           0.0\n",
      "dtype: float64\n"
     ]
    }
   ],
   "source": [
    "\"\"\"\n",
    "\n",
    "Mengurutkan dan mengubah proporsi missing value ke dalam presentas\n",
    "Hal tersebut dapat mempermudah untuk melihat mana kolom yang memiliki \n",
    "missing value paling banyak ke yang paling sedikit\n",
    "\n",
    "\"\"\"\n",
    "\n",
    "\n",
    "for i in lis:\n",
    "    print(i.isnull().sum().sort_values(ascending=False)/len(i)*100)"
   ]
  },
  {
   "cell_type": "markdown",
   "id": "fd3165af",
   "metadata": {},
   "source": [
    "Kita dapat melihat bahwa terdapat beberapa missing value di table order_by_time dan cust_by_city, presentase missing value pada table-table tersebut relatif kecil, tidak ada yang lebih dari 3%. Untuk itu saya menghilangkan kolom-kolom tersebut karena nilai missing value tidak lebih dari 5%"
   ]
  },
  {
   "cell_type": "code",
   "execution_count": 7,
   "id": "5e331076",
   "metadata": {},
   "outputs": [],
   "source": [
    "#Menghilangkan kolom-kolom yang memiliki missing value di bawah 5%\n",
    "\n",
    "order_by_time = order_by_time.drop(['order_delivered_customer_date', \n",
    "                                    'order_delivered_carrier_date', \n",
    "                                    'order_approved_at'], axis=1)\n",
    "\n",
    "cust_by_city = cust_by_city.drop(['order_delivered_customer_date', \n",
    "                                  'order_delivered_carrier_date', \n",
    "                                  'order_approved_at'], axis=1)\n",
    "\n"
   ]
  },
  {
   "cell_type": "code",
   "execution_count": 51,
   "id": "2b775795",
   "metadata": {
    "scrolled": true
   },
   "outputs": [
    {
     "name": "stdout",
     "output_type": "stream",
     "text": [
      "index                            0.0\n",
      "order_id                         0.0\n",
      "order_item_id                    0.0\n",
      "product_id                       0.0\n",
      "seller_id                        0.0\n",
      "shipping_limit_date              0.0\n",
      "price                            0.0\n",
      "freight_value                    0.0\n",
      "index                            0.0\n",
      "customer_id                      0.0\n",
      "order_status                     0.0\n",
      "order_purchase_timestamp         0.0\n",
      "order_estimated_delivery_date    0.0\n",
      "dtype: float64\n",
      "index                            0.0\n",
      "order_id                         0.0\n",
      "customer_id                      0.0\n",
      "order_status                     0.0\n",
      "order_purchase_timestamp         0.0\n",
      "order_estimated_delivery_date    0.0\n",
      "index                            0.0\n",
      "customer_unique_id               0.0\n",
      "customer_zip_code_prefix         0.0\n",
      "customer_city                    0.0\n",
      "customer_state                   0.0\n",
      "dtype: float64\n",
      "index                   0.0\n",
      "order_id                0.0\n",
      "order_item_id           0.0\n",
      "product_id              0.0\n",
      "seller_id               0.0\n",
      "shipping_limit_date     0.0\n",
      "price                   0.0\n",
      "freight_value           0.0\n",
      "index                   0.0\n",
      "payment_sequential      0.0\n",
      "payment_type            0.0\n",
      "payment_installments    0.0\n",
      "payment_value           0.0\n",
      "dtype: float64\n"
     ]
    }
   ],
   "source": [
    "update_lis = [order_by_time, cust_by_city, payment_type]\n",
    "for i in update_lis:\n",
    "    print(i.isnull().sum().sort_values(ascending=False)/len(i)*100)"
   ]
  },
  {
   "cell_type": "code",
   "execution_count": 44,
   "id": "fc8b6615",
   "metadata": {
    "collapsed": true
   },
   "outputs": [
    {
     "name": "stdout",
     "output_type": "stream",
     "text": [
      "order_id                    0\n",
      "order_item_id               0\n",
      "price                       0\n",
      "order_purchase_timestamp    0\n",
      "dtype: int64\n",
      "order_id          0\n",
      "customer_id       0\n",
      "customer_city     0\n",
      "customer_state    0\n",
      "dtype: int64\n",
      "order_id         0\n",
      "order_item_id    0\n",
      "price            0\n",
      "payment_type     0\n",
      "payment_value    0\n",
      "dtype: int64\n"
     ]
    }
   ],
   "source": [
    "lis = [order_by_time, cust_by_city, payment_type]\n",
    "for i in lis:\n",
    "    print(i.isnull().sum())"
   ]
  },
  {
   "cell_type": "markdown",
   "id": "a3e6f435",
   "metadata": {},
   "source": [
    "Identifikasi Outlier"
   ]
  },
  {
   "cell_type": "code",
   "execution_count": 9,
   "id": "b2458447",
   "metadata": {},
   "outputs": [
    {
     "name": "stdout",
     "output_type": "stream",
     "text": [
      "               index  order_item_id          price  freight_value  \\\n",
      "count  112650.000000  112650.000000  112650.000000  112650.000000   \n",
      "mean    56324.500000       1.197834     120.653739      19.990320   \n",
      "std     32519.398249       0.705124     183.633928      15.806405   \n",
      "min         0.000000       1.000000       0.850000       0.000000   \n",
      "25%     28162.250000       1.000000      39.900000      13.080000   \n",
      "50%     56324.500000       1.000000      74.990000      16.260000   \n",
      "75%     84486.750000       1.000000     134.900000      21.150000   \n",
      "max    112649.000000      21.000000    6735.000000     409.680000   \n",
      "\n",
      "               index  \n",
      "count  112650.000000  \n",
      "mean    49775.306072  \n",
      "std     28719.629766  \n",
      "min         0.000000  \n",
      "25%     24886.250000  \n",
      "50%     49773.500000  \n",
      "75%     74648.750000  \n",
      "max     99440.000000  \n",
      "              index         index  customer_zip_code_prefix\n",
      "count  99441.000000  99441.000000              99441.000000\n",
      "mean   49720.000000  49720.000000              35137.474583\n",
      "std    28706.288396  28706.288396              29797.938996\n",
      "min        0.000000      0.000000               1003.000000\n",
      "25%    24860.000000  24860.000000              11347.000000\n",
      "50%    49720.000000  49720.000000              24416.000000\n",
      "75%    74580.000000  74580.000000              58900.000000\n",
      "max    99440.000000  99440.000000              99990.000000\n",
      "               index  order_item_id          price  freight_value  \\\n",
      "count  117601.000000  117601.000000  117601.000000  117601.000000   \n",
      "mean    56283.715002       1.195900     120.824783      20.045990   \n",
      "std     32533.301480       0.697706     184.479323      15.861315   \n",
      "min         0.000000       1.000000       0.850000       0.000000   \n",
      "25%     28116.000000       1.000000      39.900000      13.080000   \n",
      "50%     56248.000000       1.000000      74.900000      16.290000   \n",
      "75%     84498.000000       1.000000     134.900000      21.190000   \n",
      "max    112649.000000      21.000000    6735.000000     409.680000   \n",
      "\n",
      "               index  payment_sequential  payment_installments  payment_value  \n",
      "count  117601.000000       117601.000000         117601.000000  117601.000000  \n",
      "mean    51940.446008            1.093528              2.939482     172.686752  \n",
      "std     29976.828907            0.726692              2.774223     267.592290  \n",
      "min         0.000000            1.000000              0.000000       0.000000  \n",
      "25%     25994.000000            1.000000              1.000000      60.870000  \n",
      "50%     51970.000000            1.000000              2.000000     108.210000  \n",
      "75%     77864.000000            1.000000              4.000000     189.260000  \n",
      "max    103885.000000           29.000000             24.000000   13664.080000  \n"
     ]
    }
   ],
   "source": [
    "# Melihat persebaran data numerik tiap dataset\n",
    "\n",
    "for i in lis:\n",
    "    print(i.describe())"
   ]
  },
  {
   "cell_type": "markdown",
   "id": "d2ae87ab",
   "metadata": {},
   "source": [
    "Kita dapat melihat bahwa pada kolom freight_value, price, dan payment_value terjadi perbedaan yang kontras antara antara nilai maksimal dan nilai Q3, untuk itu dapat disimpulkan bahwa pada kolom-kolom tersebut terdapat outlier, karena nilai maksimalnya sangat timpang dengan nilai Q3."
   ]
  },
  {
   "cell_type": "code",
   "execution_count": 21,
   "id": "cb579fd7",
   "metadata": {},
   "outputs": [
    {
     "data": {
      "text/plain": [
       "<AxesSubplot:xlabel='freight_value', ylabel='Count'>"
      ]
     },
     "execution_count": 21,
     "metadata": {},
     "output_type": "execute_result"
    },
    {
     "data": {
      "image/png": "[encoded data removed]",
      "text/plain": [
       "<Figure size 432x288 with 1 Axes>"
      ]
     },
     "metadata": {
      "needs_background": "light"
     },
     "output_type": "display_data"
    }
   ],
   "source": [
    "# visualisai kolom freight_value, price, dan payment_value\n",
    "\n",
    "sns.histplot(data=order_by_time, x=\"freight_value\")"
   ]
  },
  {
   "cell_type": "code",
   "execution_count": 26,
   "id": "52b6a6ae",
   "metadata": {},
   "outputs": [
    {
     "data": {
      "text/plain": [
       "<AxesSubplot:xlabel='price', ylabel='Count'>"
      ]
     },
     "execution_count": 26,
     "metadata": {},
     "output_type": "execute_result"
    },
    {
     "data": {
      "image/png": "[encoded data removed]",
      "text/plain": [
       "<Figure size 432x288 with 1 Axes>"
      ]
     },
     "metadata": {
      "needs_background": "light"
     },
     "output_type": "display_data"
    }
   ],
   "source": [
    "sns.histplot(data=order_by_time, x=\"price\")"
   ]
  },
  {
   "cell_type": "code",
   "execution_count": 24,
   "id": "5e3f80d9",
   "metadata": {},
   "outputs": [
    {
     "data": {
      "text/plain": [
       "<AxesSubplot:xlabel='payment_value', ylabel='Count'>"
      ]
     },
     "execution_count": 24,
     "metadata": {},
     "output_type": "execute_result"
    },
    {
     "data": {
      "image/png": "[encoded data removed]",
      "text/plain": [
       "<Figure size 432x288 with 1 Axes>"
      ]
     },
     "metadata": {
      "needs_background": "light"
     },
     "output_type": "display_data"
    }
   ],
   "source": [
    "sns.histplot(data=payment_type, x=\"payment_value\")"
   ]
  },
  {
   "cell_type": "markdown",
   "id": "8eb05172",
   "metadata": {},
   "source": [
    "Dari bar chart dia atas, kita dapat melihat ada beberapa kolom yang memiliki outliers, seperti kolom price dan freight_value pada table order_by_time dan kolom payment_value pada table payment_type"
   ]
  },
  {
   "cell_type": "code",
   "execution_count": 62,
   "id": "3ea7f205",
   "metadata": {},
   "outputs": [],
   "source": [
    "\"\"\"\n",
    "mencari q3 dari kolom price, freight_value, dan payment_value\n",
    "setelah q3 disimpan ke sebuah variable maka akan dilakukan sortir dimana\n",
    "melibatkan nilai-nilai yang lebih kecil dari Q3, agar terhindar dari outlier\n",
    "\n",
    "\"\"\"\n",
    "\n",
    "\n",
    "q3_price = order_by_time[\"price\"].quantile(0.75)\n",
    "q3_freight_value = order_by_time[\"freight_value\"].quantile(0.75)\n",
    "q3_payment_value = payment_type[\"payment_value\"].quantile(0.75)\n",
    "\n",
    "order_by_time = order_by_time[order_by_time[\"price\"] < q3_price*1.5]\n",
    "order_by_time = order_by_time[order_by_time[\"freight_value\"] < q3_freight_value*1.5]\n",
    "payment_type = payment_type[payment_type[\"payment_value\"] < q3_payment_value*1.5]"
   ]
  },
  {
   "cell_type": "code",
   "execution_count": 59,
   "id": "1d1cd92c",
   "metadata": {},
   "outputs": [
    {
     "data": {
      "text/plain": [
       "<AxesSubplot:xlabel='price', ylabel='Count'>"
      ]
     },
     "execution_count": 59,
     "metadata": {},
     "output_type": "execute_result"
    },
    {
     "data": {
      "image/png": "[encoded data removed]",
      "text/plain": [
       "<Figure size 432x288 with 1 Axes>"
      ]
     },
     "metadata": {
      "needs_background": "light"
     },
     "output_type": "display_data"
    }
   ],
   "source": [
    "sns.histplot(data=order_by_time, x=\"price\")"
   ]
  },
  {
   "cell_type": "code",
   "execution_count": 60,
   "id": "b59f3e94",
   "metadata": {},
   "outputs": [
    {
     "data": {
      "text/plain": [
       "<AxesSubplot:xlabel='freight_value', ylabel='Count'>"
      ]
     },
     "execution_count": 60,
     "metadata": {},
     "output_type": "execute_result"
    },
    {
     "data": {
      "image/png": "[encoded data removed]",
      "text/plain": [
       "<Figure size 432x288 with 1 Axes>"
      ]
     },
     "metadata": {
      "needs_background": "light"
     },
     "output_type": "display_data"
    }
   ],
   "source": [
    "sns.histplot(data=order_by_time, x=\"freight_value\")"
   ]
  },
  {
   "cell_type": "code",
   "execution_count": 63,
   "id": "b347723f",
   "metadata": {},
   "outputs": [
    {
     "data": {
      "text/plain": [
       "<AxesSubplot:xlabel='payment_value', ylabel='Count'>"
      ]
     },
     "execution_count": 63,
     "metadata": {},
     "output_type": "execute_result"
    },
    {
     "data": {
      "image/png": "[encoded data removed]",
      "text/plain": [
       "<Figure size 432x288 with 1 Axes>"
      ]
     },
     "metadata": {
      "needs_background": "light"
     },
     "output_type": "display_data"
    }
   ],
   "source": [
    "sns.histplot(data=payment_type, x=\"payment_value\")"
   ]
  },
  {
   "cell_type": "markdown",
   "id": "235d9ac8",
   "metadata": {},
   "source": [
    "Kita bisa melihat bahwa persebaran data di atas sudah ideal karena sudah tidak ada outlier-nya"
   ]
  },
  {
   "cell_type": "markdown",
   "id": "8a81ed87",
   "metadata": {},
   "source": [
    "Identifikasi inkonsisten format"
   ]
  },
  {
   "cell_type": "code",
   "execution_count": 71,
   "id": "45e0585a",
   "metadata": {},
   "outputs": [
    {
     "data": {
      "text/plain": [
       "delivered      75990\n",
       "shipped          774\n",
       "canceled         342\n",
       "invoiced         222\n",
       "processing       208\n",
       "unavailable        4\n",
       "approved           2\n",
       "Name: order_status, dtype: int64"
      ]
     },
     "execution_count": 71,
     "metadata": {},
     "output_type": "execute_result"
    }
   ],
   "source": [
    "#Menghitung jumlah nilai unique dalam kolom order_status\n",
    "\n",
    "order_by_time['order_status'].value_counts()"
   ]
  },
  {
   "cell_type": "code",
   "execution_count": 74,
   "id": "c5f02130",
   "metadata": {},
   "outputs": [
    {
     "name": "stdout",
     "output_type": "stream",
     "text": [
      "<class 'pandas.core.frame.DataFrame'>\n",
      "RangeIndex: 99441 entries, 0 to 99440\n",
      "Data columns (total 11 columns):\n",
      " #   Column                         Non-Null Count  Dtype \n",
      "---  ------                         --------------  ----- \n",
      " 0   index                          99441 non-null  int64 \n",
      " 1   order_id                       99441 non-null  object\n",
      " 2   customer_id                    99441 non-null  object\n",
      " 3   order_status                   99441 non-null  object\n",
      " 4   order_purchase_timestamp       99441 non-null  object\n",
      " 5   order_estimated_delivery_date  99441 non-null  object\n",
      " 6   index                          99441 non-null  int64 \n",
      " 7   customer_unique_id             99441 non-null  object\n",
      " 8   customer_zip_code_prefix       99441 non-null  int64 \n",
      " 9   customer_city                  99441 non-null  object\n",
      " 10  customer_state                 99441 non-null  object\n",
      "dtypes: int64(3), object(8)\n",
      "memory usage: 8.3+ MB\n"
     ]
    }
   ],
   "source": [
    "cust_by_city.info()"
   ]
  },
  {
   "cell_type": "code",
   "execution_count": 76,
   "id": "69894c64",
   "metadata": {},
   "outputs": [
    {
     "data": {
      "text/plain": [
       "sao paulo         15540\n",
       "rio de janeiro     6882\n",
       "belo horizonte     2773\n",
       "brasilia           2131\n",
       "curitiba           1521\n",
       "                  ...  \n",
       "andrequice            1\n",
       "bugre                 1\n",
       "tavares               1\n",
       "maiquinique           1\n",
       "mariano moro          1\n",
       "Name: customer_city, Length: 4119, dtype: int64"
      ]
     },
     "execution_count": 76,
     "metadata": {},
     "output_type": "execute_result"
    }
   ],
   "source": [
    "cust_by_city['customer_city'].value_counts()"
   ]
  },
  {
   "cell_type": "code",
   "execution_count": 77,
   "id": "37d86665",
   "metadata": {},
   "outputs": [
    {
     "data": {
      "text/plain": [
       "SP    41746\n",
       "RJ    12852\n",
       "MG    11635\n",
       "RS     5466\n",
       "PR     5045\n",
       "SC     3637\n",
       "BA     3380\n",
       "DF     2140\n",
       "ES     2033\n",
       "GO     2020\n",
       "PE     1652\n",
       "CE     1336\n",
       "PA      975\n",
       "MT      907\n",
       "MA      747\n",
       "MS      715\n",
       "PB      536\n",
       "PI      495\n",
       "RN      485\n",
       "AL      413\n",
       "SE      350\n",
       "TO      280\n",
       "RO      253\n",
       "AM      148\n",
       "AC       81\n",
       "AP       68\n",
       "RR       46\n",
       "Name: customer_state, dtype: int64"
      ]
     },
     "execution_count": 77,
     "metadata": {},
     "output_type": "execute_result"
    }
   ],
   "source": [
    "cust_by_city['customer_state'].value_counts()"
   ]
  },
  {
   "cell_type": "code",
   "execution_count": 78,
   "id": "53b0b1e4",
   "metadata": {},
   "outputs": [
    {
     "name": "stdout",
     "output_type": "stream",
     "text": [
      "<class 'pandas.core.frame.DataFrame'>\n",
      "Int64Index: 102051 entries, 0 to 117600\n",
      "Data columns (total 13 columns):\n",
      " #   Column                Non-Null Count   Dtype  \n",
      "---  ------                --------------   -----  \n",
      " 0   index                 102051 non-null  int64  \n",
      " 1   order_id              102051 non-null  object \n",
      " 2   order_item_id         102051 non-null  int64  \n",
      " 3   product_id            102051 non-null  object \n",
      " 4   seller_id             102051 non-null  object \n",
      " 5   shipping_limit_date   102051 non-null  object \n",
      " 6   price                 102051 non-null  float64\n",
      " 7   freight_value         102051 non-null  float64\n",
      " 8   index                 102051 non-null  int64  \n",
      " 9   payment_sequential    102051 non-null  int64  \n",
      " 10  payment_type          102051 non-null  object \n",
      " 11  payment_installments  102051 non-null  int64  \n",
      " 12  payment_value         102051 non-null  float64\n",
      "dtypes: float64(3), int64(5), object(5)\n",
      "memory usage: 10.9+ MB\n"
     ]
    }
   ],
   "source": [
    "payment_type.info()"
   ]
  },
  {
   "cell_type": "code",
   "execution_count": 79,
   "id": "0bb4c9c0",
   "metadata": {},
   "outputs": [
    {
     "data": {
      "text/plain": [
       "credit_card    74519\n",
       "boleto         19857\n",
       "voucher         6138\n",
       "debit_card      1537\n",
       "Name: payment_type, dtype: int64"
      ]
     },
     "execution_count": 79,
     "metadata": {},
     "output_type": "execute_result"
    }
   ],
   "source": [
    "payment_type['payment_type'].value_counts()"
   ]
  },
  {
   "cell_type": "markdown",
   "id": "fcdfd0c3",
   "metadata": {},
   "source": [
    "Dalam kolom-kolom kategorikal di atas bisa kita lihat ada beberapa variasi nilai dan dari nilai-nilai tersebut sudah konsisten, jadi tidak perlu melakukan handling"
   ]
  },
  {
   "cell_type": "markdown",
   "id": "5f064a6c",
   "metadata": {},
   "source": [
    "Identifikasi data duplikat"
   ]
  },
  {
   "cell_type": "code",
   "execution_count": 84,
   "id": "2beb05a4",
   "metadata": {},
   "outputs": [
    {
     "data": {
      "text/html": [
       "<div>\n",
       "<style scoped>\n",
       "    .dataframe tbody tr th:only-of-type {\n",
       "        vertical-align: middle;\n",
       "    }\n",
       "\n",
       "    .dataframe tbody tr th {\n",
       "        vertical-align: top;\n",
       "    }\n",
       "\n",
       "    .dataframe thead th {\n",
       "        text-align: right;\n",
       "    }\n",
       "</style>\n",
       "<table border=\"1\" class=\"dataframe\">\n",
       "  <thead>\n",
       "    <tr style=\"text-align: right;\">\n",
       "      <th></th>\n",
       "      <th>index</th>\n",
       "      <th>order_id</th>\n",
       "      <th>order_item_id</th>\n",
       "      <th>product_id</th>\n",
       "      <th>seller_id</th>\n",
       "      <th>shipping_limit_date</th>\n",
       "      <th>price</th>\n",
       "      <th>freight_value</th>\n",
       "      <th>index</th>\n",
       "      <th>payment_sequential</th>\n",
       "      <th>payment_type</th>\n",
       "      <th>payment_installments</th>\n",
       "      <th>payment_value</th>\n",
       "    </tr>\n",
       "  </thead>\n",
       "  <tbody>\n",
       "  </tbody>\n",
       "</table>\n",
       "</div>"
      ],
      "text/plain": [
       "Empty DataFrame\n",
       "Columns: [index, order_id, order_item_id, product_id, seller_id, shipping_limit_date, price, freight_value, index, payment_sequential, payment_type, payment_installments, payment_value]\n",
       "Index: []"
      ]
     },
     "execution_count": 84,
     "metadata": {},
     "output_type": "execute_result"
    }
   ],
   "source": [
    "order_by_time[order_by_time.duplicated(keep=False)].head()\n",
    "cust_by_city[cust_by_city.duplicated(keep=False)].head()\n",
    "payment_type[payment_type.duplicated(keep=False)].head()"
   ]
  },
  {
   "cell_type": "markdown",
   "id": "fec3a7b2",
   "metadata": {},
   "source": [
    "Dari ketiga dataset tersebut, tidak ada data yang mengalami duplikasi, sehingga tidak memerlukan handling"
   ]
  },
  {
   "cell_type": "markdown",
   "id": "2cd86d88",
   "metadata": {},
   "source": [
    "# Data Manipulation"
   ]
  },
  {
   "cell_type": "markdown",
   "id": "615ad920",
   "metadata": {},
   "source": [
    "Date Parsing"
   ]
  },
  {
   "cell_type": "code",
   "execution_count": 8,
   "id": "ecb862b8",
   "metadata": {},
   "outputs": [],
   "source": [
    "\"\"\"\n",
    "Membuat kolom baru dengan mengekstrak tanggal\n",
    "Menggunakan fitur dari pandas yaitu .to_datetime, dengan fitur tersebut saya dapat mengekstrak hari, tanggal, dan tahun untuk \n",
    "keperluan analisis\n",
    "\n",
    "\"\"\" \n",
    "order_by_time['order_purchase_timestamp'] = pd.to_datetime(order_by_time['order_purchase_timestamp'])\n",
    "order_by_time['Day'] = pd.to_datetime(order_by_time['order_purchase_timestamp']).dt.day\n",
    "order_by_time['Month'] = pd.to_datetime(order_by_time['order_purchase_timestamp']).dt.month\n",
    "order_by_time['Year'] = pd.to_datetime(order_by_time['order_purchase_timestamp']).dt.year"
   ]
  },
  {
   "cell_type": "markdown",
   "id": "e77f006c",
   "metadata": {},
   "source": [
    "Grouping"
   ]
  },
  {
   "cell_type": "code",
   "execution_count": 9,
   "id": "eb332f48",
   "metadata": {},
   "outputs": [
    {
     "data": {
      "text/html": [
       "<div>\n",
       "<style scoped>\n",
       "    .dataframe tbody tr th:only-of-type {\n",
       "        vertical-align: middle;\n",
       "    }\n",
       "\n",
       "    .dataframe tbody tr th {\n",
       "        vertical-align: top;\n",
       "    }\n",
       "\n",
       "    .dataframe thead th {\n",
       "        text-align: right;\n",
       "    }\n",
       "</style>\n",
       "<table border=\"1\" class=\"dataframe\">\n",
       "  <thead>\n",
       "    <tr style=\"text-align: right;\">\n",
       "      <th></th>\n",
       "      <th></th>\n",
       "      <th>Total</th>\n",
       "    </tr>\n",
       "    <tr>\n",
       "      <th>Year</th>\n",
       "      <th>Month</th>\n",
       "      <th></th>\n",
       "    </tr>\n",
       "  </thead>\n",
       "  <tbody>\n",
       "    <tr>\n",
       "      <th rowspan=\"3\" valign=\"top\">2016</th>\n",
       "      <th>9</th>\n",
       "      <td>435.23</td>\n",
       "    </tr>\n",
       "    <tr>\n",
       "      <th>10</th>\n",
       "      <td>56103.79</td>\n",
       "    </tr>\n",
       "    <tr>\n",
       "      <th>12</th>\n",
       "      <td>10.90</td>\n",
       "    </tr>\n",
       "    <tr>\n",
       "      <th rowspan=\"12\" valign=\"top\">2017</th>\n",
       "      <th>1</th>\n",
       "      <td>142077.30</td>\n",
       "    </tr>\n",
       "    <tr>\n",
       "      <th>2</th>\n",
       "      <td>269786.66</td>\n",
       "    </tr>\n",
       "    <tr>\n",
       "      <th>3</th>\n",
       "      <td>412016.43</td>\n",
       "    </tr>\n",
       "    <tr>\n",
       "      <th>4</th>\n",
       "      <td>399336.79</td>\n",
       "    </tr>\n",
       "    <tr>\n",
       "      <th>5</th>\n",
       "      <td>562388.09</td>\n",
       "    </tr>\n",
       "    <tr>\n",
       "      <th>6</th>\n",
       "      <td>471648.72</td>\n",
       "    </tr>\n",
       "    <tr>\n",
       "      <th>7</th>\n",
       "      <td>558035.60</td>\n",
       "    </tr>\n",
       "    <tr>\n",
       "      <th>8</th>\n",
       "      <td>655335.69</td>\n",
       "    </tr>\n",
       "    <tr>\n",
       "      <th>9</th>\n",
       "      <td>753890.26</td>\n",
       "    </tr>\n",
       "    <tr>\n",
       "      <th>10</th>\n",
       "      <td>766159.48</td>\n",
       "    </tr>\n",
       "    <tr>\n",
       "      <th>11</th>\n",
       "      <td>1176425.07</td>\n",
       "    </tr>\n",
       "    <tr>\n",
       "      <th>12</th>\n",
       "      <td>815042.73</td>\n",
       "    </tr>\n",
       "    <tr>\n",
       "      <th rowspan=\"9\" valign=\"top\">2018</th>\n",
       "      <th>1</th>\n",
       "      <td>1072699.91</td>\n",
       "    </tr>\n",
       "    <tr>\n",
       "      <th>2</th>\n",
       "      <td>973071.91</td>\n",
       "    </tr>\n",
       "    <tr>\n",
       "      <th>3</th>\n",
       "      <td>1109066.72</td>\n",
       "    </tr>\n",
       "    <tr>\n",
       "      <th>4</th>\n",
       "      <td>1130916.12</td>\n",
       "    </tr>\n",
       "    <tr>\n",
       "      <th>5</th>\n",
       "      <td>1137417.24</td>\n",
       "    </tr>\n",
       "    <tr>\n",
       "      <th>6</th>\n",
       "      <td>975084.01</td>\n",
       "    </tr>\n",
       "    <tr>\n",
       "      <th>7</th>\n",
       "      <td>1011982.19</td>\n",
       "    </tr>\n",
       "    <tr>\n",
       "      <th>8</th>\n",
       "      <td>948662.77</td>\n",
       "    </tr>\n",
       "    <tr>\n",
       "      <th>9</th>\n",
       "      <td>145.00</td>\n",
       "    </tr>\n",
       "  </tbody>\n",
       "</table>\n",
       "</div>"
      ],
      "text/plain": [
       "                 Total\n",
       "Year Month            \n",
       "2016 9          435.23\n",
       "     10       56103.79\n",
       "     12          10.90\n",
       "2017 1       142077.30\n",
       "     2       269786.66\n",
       "     3       412016.43\n",
       "     4       399336.79\n",
       "     5       562388.09\n",
       "     6       471648.72\n",
       "     7       558035.60\n",
       "     8       655335.69\n",
       "     9       753890.26\n",
       "     10      766159.48\n",
       "     11     1176425.07\n",
       "     12      815042.73\n",
       "2018 1      1072699.91\n",
       "     2       973071.91\n",
       "     3      1109066.72\n",
       "     4      1130916.12\n",
       "     5      1137417.24\n",
       "     6       975084.01\n",
       "     7      1011982.19\n",
       "     8       948662.77\n",
       "     9          145.00"
      ]
     },
     "execution_count": 9,
     "metadata": {},
     "output_type": "execute_result"
    }
   ],
   "source": [
    "\"\"\"\n",
    "Untuk analisa sales, saya memerlukan total sales setiap bulan dan tahunnya, untuk itu saya membuat kolom baru bernama 'Total'\n",
    "untuk menyimpan total sales, serta menggunakannya ke dalam plot time series\n",
    "\n",
    "\"\"\"\n",
    "\n",
    "order_by_time['Total'] = order_by_time['order_item_id']*order_by_time['price']\n",
    "analisa_1 = pd.DataFrame(order_by_time.groupby(['Year', 'Month'])['Total'].sum())\n",
    "analisa_1"
   ]
  },
  {
   "cell_type": "markdown",
   "id": "57374c92",
   "metadata": {},
   "source": [
    "\n",
    "Tabel di atas menunjukan total sales tiap bulan dan tahun"
   ]
  },
  {
   "cell_type": "markdown",
   "id": "d400b183",
   "metadata": {},
   "source": [
    "Pivoting"
   ]
  },
  {
   "cell_type": "code",
   "execution_count": 11,
   "id": "7a756bdd",
   "metadata": {},
   "outputs": [
    {
     "data": {
      "text/html": [
       "<div>\n",
       "<style scoped>\n",
       "    .dataframe tbody tr th:only-of-type {\n",
       "        vertical-align: middle;\n",
       "    }\n",
       "\n",
       "    .dataframe tbody tr th {\n",
       "        vertical-align: top;\n",
       "    }\n",
       "\n",
       "    .dataframe thead tr th {\n",
       "        text-align: left;\n",
       "    }\n",
       "\n",
       "    .dataframe thead tr:last-of-type th {\n",
       "        text-align: right;\n",
       "    }\n",
       "</style>\n",
       "<table border=\"1\" class=\"dataframe\">\n",
       "  <thead>\n",
       "    <tr>\n",
       "      <th></th>\n",
       "      <th>sum</th>\n",
       "    </tr>\n",
       "    <tr>\n",
       "      <th></th>\n",
       "      <th>Total</th>\n",
       "    </tr>\n",
       "    <tr>\n",
       "      <th>payment_type</th>\n",
       "      <th></th>\n",
       "    </tr>\n",
       "  </thead>\n",
       "  <tbody>\n",
       "    <tr>\n",
       "      <th>boleto</th>\n",
       "      <td>2.879919e+06</td>\n",
       "    </tr>\n",
       "    <tr>\n",
       "      <th>credit_card</th>\n",
       "      <td>1.228084e+07</td>\n",
       "    </tr>\n",
       "    <tr>\n",
       "      <th>debit_card</th>\n",
       "      <td>1.994373e+05</td>\n",
       "    </tr>\n",
       "    <tr>\n",
       "      <th>voucher</th>\n",
       "      <td>7.169022e+05</td>\n",
       "    </tr>\n",
       "  </tbody>\n",
       "</table>\n",
       "</div>"
      ],
      "text/plain": [
       "                       sum\n",
       "                     Total\n",
       "payment_type              \n",
       "boleto        2.879919e+06\n",
       "credit_card   1.228084e+07\n",
       "debit_card    1.994373e+05\n",
       "voucher       7.169022e+05"
      ]
     },
     "execution_count": 11,
     "metadata": {},
     "output_type": "execute_result"
    }
   ],
   "source": [
    "\"\"\"\n",
    "Untuk mengetahui proporsi metode pembayaran yang digunakan oleh customer, saya juga mengkategorikan dengan total pemnayaran yang \n",
    "dikeluarkan berdasarkan tipe pembayaran yang digunakan\n",
    "\n",
    "\"\"\"\n",
    "\n",
    "\n",
    "payment_type['Total'] = payment_type['order_item_id']*payment_type['price']\n",
    "analisa_2 = payment_type.pivot_table(values = [\"Total\"], index='payment_type', aggfunc=[sum])\n",
    "analisa_2\n",
    "\n",
    "#.value_counts().sort_values(ascending=False)/len(\"Total\")*100"
   ]
  },
  {
   "cell_type": "markdown",
   "id": "d80a11ac",
   "metadata": {},
   "source": [
    "Tabel di atas menunjukann total sales yang dilakukan oleh customer berdasarkan metode pembayaran"
   ]
  },
  {
   "cell_type": "code",
   "execution_count": 20,
   "id": "0cedacdf",
   "metadata": {
    "scrolled": true
   },
   "outputs": [
    {
     "data": {
      "text/html": [
       "<div>\n",
       "<style scoped>\n",
       "    .dataframe tbody tr th:only-of-type {\n",
       "        vertical-align: middle;\n",
       "    }\n",
       "\n",
       "    .dataframe tbody tr th {\n",
       "        vertical-align: top;\n",
       "    }\n",
       "\n",
       "    .dataframe thead th {\n",
       "        text-align: right;\n",
       "    }\n",
       "</style>\n",
       "<table border=\"1\" class=\"dataframe\">\n",
       "  <thead>\n",
       "    <tr style=\"text-align: right;\">\n",
       "      <th></th>\n",
       "      <th>order_id</th>\n",
       "    </tr>\n",
       "    <tr>\n",
       "      <th>customer_state</th>\n",
       "      <th></th>\n",
       "    </tr>\n",
       "  </thead>\n",
       "  <tbody>\n",
       "    <tr>\n",
       "      <th>SP</th>\n",
       "      <td>41746</td>\n",
       "    </tr>\n",
       "    <tr>\n",
       "      <th>RJ</th>\n",
       "      <td>12852</td>\n",
       "    </tr>\n",
       "    <tr>\n",
       "      <th>MG</th>\n",
       "      <td>11635</td>\n",
       "    </tr>\n",
       "    <tr>\n",
       "      <th>RS</th>\n",
       "      <td>5466</td>\n",
       "    </tr>\n",
       "    <tr>\n",
       "      <th>PR</th>\n",
       "      <td>5045</td>\n",
       "    </tr>\n",
       "    <tr>\n",
       "      <th>SC</th>\n",
       "      <td>3637</td>\n",
       "    </tr>\n",
       "    <tr>\n",
       "      <th>BA</th>\n",
       "      <td>3380</td>\n",
       "    </tr>\n",
       "    <tr>\n",
       "      <th>DF</th>\n",
       "      <td>2140</td>\n",
       "    </tr>\n",
       "    <tr>\n",
       "      <th>ES</th>\n",
       "      <td>2033</td>\n",
       "    </tr>\n",
       "    <tr>\n",
       "      <th>GO</th>\n",
       "      <td>2020</td>\n",
       "    </tr>\n",
       "  </tbody>\n",
       "</table>\n",
       "</div>"
      ],
      "text/plain": [
       "                order_id\n",
       "customer_state          \n",
       "SP                 41746\n",
       "RJ                 12852\n",
       "MG                 11635\n",
       "RS                  5466\n",
       "PR                  5045\n",
       "SC                  3637\n",
       "BA                  3380\n",
       "DF                  2140\n",
       "ES                  2033\n",
       "GO                  2020"
      ]
     },
     "execution_count": 20,
     "metadata": {},
     "output_type": "execute_result"
    }
   ],
   "source": [
    "\"\"\"\n",
    "Untuk mengetahui jumlah order yang dilakukan oleh customer tiap negara, makan yang saya lakukan adalah menggunakan fungsi\n",
    "pivot_table untuk mengelompokkan setiap jumlah order berdasarkan customer state-nya\n",
    "\n",
    "\"\"\"\n",
    "\n",
    "analisa_3 = cust_by_city.pivot_table(index='customer_state', values=['order_id'], aggfunc=len)\n",
    "analisa_3 = analisa_3.sort_values(ascending=False, by='order_id')\n",
    "sorted_analisa_3 = analisa_3.sort_values(ascending=False, by='order_id').head(10)\n",
    "sorted_analisa_3"
   ]
  },
  {
   "cell_type": "markdown",
   "id": "e6f3156b",
   "metadata": {},
   "source": [
    "Tabel di atas menunjukann Top 10 total sales yang dilakukan oleh customer berdasarkan metode pembayaran"
   ]
  },
  {
   "cell_type": "markdown",
   "id": "ed79a531",
   "metadata": {},
   "source": [
    "## Analisa"
   ]
  },
  {
   "cell_type": "code",
   "execution_count": 95,
   "id": "4d92ae0a",
   "metadata": {},
   "outputs": [
    {
     "data": {
      "text/plain": [
       "<AxesSubplot:xlabel='Month', ylabel='Total'>"
      ]
     },
     "execution_count": 95,
     "metadata": {},
     "output_type": "execute_result"
    },
    {
     "data": {
      "image/png": "[encoded data removed]",
      "text/plain": [
       "<Figure size 1440x576 with 1 Axes>"
      ]
     },
     "metadata": {},
     "output_type": "display_data"
    }
   ],
   "source": [
    "sns.set_style('darkgrid')\n",
    "sns.set(rc={'figure.figsize':(20,8)})\n",
    "\n",
    "fig, axes = plt.subplots(1, 1, sharey=False)\n",
    "fig.suptitle('Tren Penjualan Setiap Bulan')\n",
    "\n",
    "sns.lineplot(data=analisa_1, x ='Month', y = 'Total',\n",
    "                hue='Year', palette='plasma',\n",
    "                legend='full', lw=3)"
   ]
  },
  {
   "cell_type": "code",
   "execution_count": 15,
   "id": "93796d46",
   "metadata": {},
   "outputs": [
    {
     "data": {
      "text/plain": [
       "array([<AxesSubplot:ylabel='(sum, Total)'>], dtype=object)"
      ]
     },
     "execution_count": 15,
     "metadata": {},
     "output_type": "execute_result"
    },
    {
     "data": {
      "image/png": "[encoded data removed]",
      "text/plain": [
       "<Figure size 576x576 with 1 Axes>"
      ]
     },
     "metadata": {},
     "output_type": "display_data"
    }
   ],
   "source": [
    "analisa_2.plot(kind='pie', title='Proporsi Metode Pembayan', figsize=[8,8], subplots=True, autopct='%.0f%%')"
   ]
  },
  {
   "cell_type": "code",
   "execution_count": 22,
   "id": "b1681c41",
   "metadata": {},
   "outputs": [
    {
     "data": {
      "text/plain": [
       "<AxesSubplot:title={'center':'Jumlah order tiap state'}, xlabel='customer_state'>"
      ]
     },
     "execution_count": 22,
     "metadata": {},
     "output_type": "execute_result"
    },
    {
     "data": {
      "image/png": "[encoded data removed]",
      "text/plain": [
       "<Figure size 432x288 with 1 Axes>"
      ]
     },
     "metadata": {
      "needs_background": "light"
     },
     "output_type": "display_data"
    }
   ],
   "source": [
    "sorted_analisa_3.plot(kind='bar', title='Jumlah order tiap state')"
   ]
  },
  {
   "cell_type": "code",
   "execution_count": 39,
   "id": "5200f9c9",
   "metadata": {},
   "outputs": [
    {
     "data": {
      "text/html": [
       "<div>\n",
       "<style scoped>\n",
       "    .dataframe tbody tr th:only-of-type {\n",
       "        vertical-align: middle;\n",
       "    }\n",
       "\n",
       "    .dataframe tbody tr th {\n",
       "        vertical-align: top;\n",
       "    }\n",
       "\n",
       "    .dataframe thead th {\n",
       "        text-align: right;\n",
       "    }\n",
       "</style>\n",
       "<table border=\"1\" class=\"dataframe\">\n",
       "  <thead>\n",
       "    <tr style=\"text-align: right;\">\n",
       "      <th></th>\n",
       "      <th>0</th>\n",
       "      <th>1</th>\n",
       "    </tr>\n",
       "  </thead>\n",
       "  <tbody>\n",
       "    <tr>\n",
       "      <th>0</th>\n",
       "      <td>AC</td>\n",
       "      <td>771      rio branco\n",
       "2183     rio branco\n",
       "2493  ...</td>\n",
       "    </tr>\n",
       "    <tr>\n",
       "      <th>1</th>\n",
       "      <td>AL</td>\n",
       "      <td>625                  maceio\n",
       "712               ...</td>\n",
       "    </tr>\n",
       "    <tr>\n",
       "      <th>2</th>\n",
       "      <td>AM</td>\n",
       "      <td>962      humaita\n",
       "5722      manaus\n",
       "5877      ma...</td>\n",
       "    </tr>\n",
       "    <tr>\n",
       "      <th>3</th>\n",
       "      <td>AP</td>\n",
       "      <td>201                macapa\n",
       "4907               m...</td>\n",
       "    </tr>\n",
       "    <tr>\n",
       "      <th>4</th>\n",
       "      <td>BA</td>\n",
       "      <td>1                     barreiras\n",
       "19            ...</td>\n",
       "    </tr>\n",
       "    <tr>\n",
       "      <th>5</th>\n",
       "      <td>CE</td>\n",
       "      <td>36           ibiapina\n",
       "95         alto santo\n",
       "30...</td>\n",
       "    </tr>\n",
       "    <tr>\n",
       "      <th>6</th>\n",
       "      <td>DF</td>\n",
       "      <td>42       brasilia\n",
       "61       brasilia\n",
       "80       b...</td>\n",
       "    </tr>\n",
       "    <tr>\n",
       "      <th>7</th>\n",
       "      <td>ES</td>\n",
       "      <td>188                        serra\n",
       "223          ...</td>\n",
       "    </tr>\n",
       "    <tr>\n",
       "      <th>8</th>\n",
       "      <td>GO</td>\n",
       "      <td>2                         vianopolis\n",
       "15       ...</td>\n",
       "    </tr>\n",
       "    <tr>\n",
       "      <th>9</th>\n",
       "      <td>MA</td>\n",
       "      <td>386         acailandia\n",
       "544           sao luis\n",
       "...</td>\n",
       "    </tr>\n",
       "    <tr>\n",
       "      <th>10</th>\n",
       "      <td>MG</td>\n",
       "      <td>12                ouro preto\n",
       "63               ...</td>\n",
       "    </tr>\n",
       "    <tr>\n",
       "      <th>11</th>\n",
       "      <td>MS</td>\n",
       "      <td>221      campo grande\n",
       "279      campo grande\n",
       "43...</td>\n",
       "    </tr>\n",
       "    <tr>\n",
       "      <th>12</th>\n",
       "      <td>MT</td>\n",
       "      <td>75                      cuiaba\n",
       "150            ...</td>\n",
       "    </tr>\n",
       "    <tr>\n",
       "      <th>13</th>\n",
       "      <td>PA</td>\n",
       "      <td>145               paragominas\n",
       "307             ...</td>\n",
       "    </tr>\n",
       "    <tr>\n",
       "      <th>14</th>\n",
       "      <td>PB</td>\n",
       "      <td>83          santa luzia\n",
       "124       nova florest...</td>\n",
       "    </tr>\n",
       "    <tr>\n",
       "      <th>15</th>\n",
       "      <td>PE</td>\n",
       "      <td>31                      palmares\n",
       "38       jabo...</td>\n",
       "    </tr>\n",
       "    <tr>\n",
       "      <th>16</th>\n",
       "      <td>PI</td>\n",
       "      <td>456                   teresina\n",
       "1026           ...</td>\n",
       "    </tr>\n",
       "    <tr>\n",
       "      <th>17</th>\n",
       "      <td>PR</td>\n",
       "      <td>5                congonhinhas\n",
       "51              ...</td>\n",
       "    </tr>\n",
       "    <tr>\n",
       "      <th>18</th>\n",
       "      <td>RJ</td>\n",
       "      <td>7             nilopolis\n",
       "10       rio de janeir...</td>\n",
       "    </tr>\n",
       "    <tr>\n",
       "      <th>19</th>\n",
       "      <td>RN</td>\n",
       "      <td>3        sao goncalo do amarante\n",
       "119          ...</td>\n",
       "    </tr>\n",
       "    <tr>\n",
       "      <th>20</th>\n",
       "      <td>RO</td>\n",
       "      <td>159               ariquemes\n",
       "776               ...</td>\n",
       "    </tr>\n",
       "    <tr>\n",
       "      <th>21</th>\n",
       "      <td>RR</td>\n",
       "      <td>29       boa vista\n",
       "2043     boa vista\n",
       "4541    ...</td>\n",
       "    </tr>\n",
       "    <tr>\n",
       "      <th>22</th>\n",
       "      <td>RS</td>\n",
       "      <td>6             santa rosa\n",
       "8           faxinalzi...</td>\n",
       "    </tr>\n",
       "    <tr>\n",
       "      <th>23</th>\n",
       "      <td>SC</td>\n",
       "      <td>17            imbituba\n",
       "23            blumenau\n",
       "...</td>\n",
       "    </tr>\n",
       "    <tr>\n",
       "      <th>24</th>\n",
       "      <td>SE</td>\n",
       "      <td>57          aracaju\n",
       "394         aracaju\n",
       "513   ...</td>\n",
       "    </tr>\n",
       "    <tr>\n",
       "      <th>25</th>\n",
       "      <td>SP</td>\n",
       "      <td>0                  sao paulo\n",
       "4                ...</td>\n",
       "    </tr>\n",
       "    <tr>\n",
       "      <th>26</th>\n",
       "      <td>TO</td>\n",
       "      <td>35                       alvorada\n",
       "289         ...</td>\n",
       "    </tr>\n",
       "  </tbody>\n",
       "</table>\n",
       "</div>"
      ],
      "text/plain": [
       "     0                                                  1\n",
       "0   AC  771      rio branco\n",
       "2183     rio branco\n",
       "2493  ...\n",
       "1   AL  625                  maceio\n",
       "712               ...\n",
       "2   AM  962      humaita\n",
       "5722      manaus\n",
       "5877      ma...\n",
       "3   AP  201                macapa\n",
       "4907               m...\n",
       "4   BA  1                     barreiras\n",
       "19            ...\n",
       "5   CE  36           ibiapina\n",
       "95         alto santo\n",
       "30...\n",
       "6   DF  42       brasilia\n",
       "61       brasilia\n",
       "80       b...\n",
       "7   ES  188                        serra\n",
       "223          ...\n",
       "8   GO  2                         vianopolis\n",
       "15       ...\n",
       "9   MA  386         acailandia\n",
       "544           sao luis\n",
       "...\n",
       "10  MG  12                ouro preto\n",
       "63               ...\n",
       "11  MS  221      campo grande\n",
       "279      campo grande\n",
       "43...\n",
       "12  MT  75                      cuiaba\n",
       "150            ...\n",
       "13  PA  145               paragominas\n",
       "307             ...\n",
       "14  PB  83          santa luzia\n",
       "124       nova florest...\n",
       "15  PE  31                      palmares\n",
       "38       jabo...\n",
       "16  PI  456                   teresina\n",
       "1026           ...\n",
       "17  PR  5                congonhinhas\n",
       "51              ...\n",
       "18  RJ  7             nilopolis\n",
       "10       rio de janeir...\n",
       "19  RN  3        sao goncalo do amarante\n",
       "119          ...\n",
       "20  RO  159               ariquemes\n",
       "776               ...\n",
       "21  RR  29       boa vista\n",
       "2043     boa vista\n",
       "4541    ...\n",
       "22  RS  6             santa rosa\n",
       "8           faxinalzi...\n",
       "23  SC  17            imbituba\n",
       "23            blumenau\n",
       "...\n",
       "24  SE  57          aracaju\n",
       "394         aracaju\n",
       "513   ...\n",
       "25  SP  0                  sao paulo\n",
       "4                ...\n",
       "26  TO  35                       alvorada\n",
       "289         ..."
      ]
     },
     "execution_count": 39,
     "metadata": {},
     "output_type": "execute_result"
    }
   ],
   "source": [
    "pd.DataFrame(cust_by_city.groupby(['customer_state'])['customer_city'])"
   ]
  },
  {
   "cell_type": "code",
   "execution_count": null,
   "id": "18055dc7",
   "metadata": {},
   "outputs": [],
   "source": []
  }
 ],
 "metadata": {
  "kernelspec": {
   "display_name": "Python 3",
   "language": "python",
   "name": "python3"
  },
  "language_info": {
   "codemirror_mode": {
    "name": "ipython",
    "version": 3
   },
   "file_extension": ".py",
   "mimetype": "text/x-python",
   "name": "python",
   "nbconvert_exporter": "python",
   "pygments_lexer": "ipython3",
   "version": "3.8.8"
  }
 },
 "nbformat": 4,
 "nbformat_minor": 5
}
